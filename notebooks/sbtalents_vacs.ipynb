{
 "cells": [
  {
   "cell_type": "code",
   "execution_count": 1,
   "metadata": {},
   "outputs": [],
   "source": [
    "import requests\n",
    "from bs4 import BeautifulSoup\n",
    "import json\n",
    "import pandas as pd\n",
    "from tqdm.auto import tqdm\n"
   ]
  },
  {
   "cell_type": "code",
   "execution_count": 2,
   "metadata": {},
   "outputs": [
    {
     "data": {
      "application/vnd.jupyter.widget-view+json": {
       "model_id": "47db52da3ad44a839fb00b8dba65046e",
       "version_major": 2,
       "version_minor": 0
      },
      "text/plain": [
       "HBox(children=(FloatProgress(value=0.0), HTML(value='')))"
      ]
     },
     "metadata": {},
     "output_type": "display_data"
    },
    {
     "name": "stdout",
     "output_type": "stream",
     "text": [
      "\n"
     ]
    }
   ],
   "source": [
    "vacs = []\n",
    "for i in tqdm(range(100)):\n",
    "    url = f'https://my.sbertalents.ru/job-requisition/v2?page={i}&size=100'\n",
    "    res = requests.get(url).json()\n",
    "    if len(res['content']) > 0:\n",
    "        vacs.extend(res['content'])\n",
    "    else:\n",
    "        break"
   ]
  },
  {
   "cell_type": "code",
   "execution_count": null,
   "metadata": {},
   "outputs": [],
   "source": []
  },
  {
   "cell_type": "code",
   "execution_count": 3,
   "metadata": {},
   "outputs": [],
   "source": [
    "def get_vacinfo(vhtml):\n",
    "    vactext = ''\n",
    "    vactitle = ''\n",
    "    for k, v in vhtml.items():\n",
    "        if k !='title':\n",
    "            vactext += v\n",
    "        else:\n",
    "            vactitle = v\n",
    "    soup = BeautifulSoup(vactext)\n",
    "    vacdesc = soup.text.replace('\\xa0',' ')\n",
    "    return vactitle, vacdesc"
   ]
  },
  {
   "cell_type": "code",
   "execution_count": 4,
   "metadata": {
    "scrolled": true
   },
   "outputs": [
    {
     "data": {
      "application/vnd.jupyter.widget-view+json": {
       "model_id": "8117200f562541c989b6462ff00eb276",
       "version_major": 2,
       "version_minor": 0
      },
      "text/plain": [
       "HBox(children=(FloatProgress(value=0.0, max=3260.0), HTML(value='')))"
      ]
     },
     "metadata": {},
     "output_type": "display_data"
    },
    {
     "name": "stdout",
     "output_type": "stream",
     "text": [
      "\n"
     ]
    }
   ],
   "source": [
    "vacs_dict = {\n",
    "    'title':[],\n",
    "    'description':[],\n",
    "    'date':[],\n",
    "    'id':[]\n",
    "}\n",
    "\n",
    "for vaca in tqdm(vacs):\n",
    "    vtit, vdes = get_vacinfo(vaca['content'])\n",
    "    vacs_dict['title'].append(vtit)\n",
    "    vacs_dict['description'].append(vdes)\n",
    "    vacs_dict['date'].append(vaca.get('date'))\n",
    "    vacs_dict['id'].append(vaca['id'])"
   ]
  },
  {
   "cell_type": "code",
   "execution_count": 5,
   "metadata": {},
   "outputs": [],
   "source": [
    "vtab = pd.DataFrame(vacs_dict)"
   ]
  },
  {
   "cell_type": "code",
   "execution_count": 6,
   "metadata": {},
   "outputs": [
    {
     "data": {
      "text/html": [
       "<div>\n",
       "<style scoped>\n",
       "    .dataframe tbody tr th:only-of-type {\n",
       "        vertical-align: middle;\n",
       "    }\n",
       "\n",
       "    .dataframe tbody tr th {\n",
       "        vertical-align: top;\n",
       "    }\n",
       "\n",
       "    .dataframe thead th {\n",
       "        text-align: right;\n",
       "    }\n",
       "</style>\n",
       "<table border=\"1\" class=\"dataframe\">\n",
       "  <thead>\n",
       "    <tr style=\"text-align: right;\">\n",
       "      <th></th>\n",
       "      <th>title</th>\n",
       "      <th>description</th>\n",
       "      <th>date</th>\n",
       "      <th>id</th>\n",
       "    </tr>\n",
       "  </thead>\n",
       "  <tbody>\n",
       "    <tr>\n",
       "      <th>0</th>\n",
       "      <td>Мобильный менеджер по продажам</td>\n",
       "      <td>Мы предлагаем:оформление согласно трудовому ко...</td>\n",
       "      <td>2020-11-24</td>\n",
       "      <td>395814</td>\n",
       "    </tr>\n",
       "    <tr>\n",
       "      <th>1</th>\n",
       "      <td>Специалист по прямым продажам</td>\n",
       "      <td>Мы предлагаем: трудоустройство согласно ТК РФ;...</td>\n",
       "      <td>2020-11-23</td>\n",
       "      <td>452801</td>\n",
       "    </tr>\n",
       "    <tr>\n",
       "      <th>2</th>\n",
       "      <td>Специалист по прямым продажам</td>\n",
       "      <td>Мы предлагаем:  дистанционное обучение по банк...</td>\n",
       "      <td>2020-11-24</td>\n",
       "      <td>453517</td>\n",
       "    </tr>\n",
       "    <tr>\n",
       "      <th>3</th>\n",
       "      <td>Мобильный менеджер по продажам</td>\n",
       "      <td>Мы предлагаем: - оформление согласно трудовому...</td>\n",
       "      <td>2020-11-24</td>\n",
       "      <td>457243</td>\n",
       "    </tr>\n",
       "    <tr>\n",
       "      <th>4</th>\n",
       "      <td>Мобильный менеджер по продажам</td>\n",
       "      <td>Мы предлагаем:- оформление согласно трудовому ...</td>\n",
       "      <td>2020-11-24</td>\n",
       "      <td>460664</td>\n",
       "    </tr>\n",
       "  </tbody>\n",
       "</table>\n",
       "</div>"
      ],
      "text/plain": [
       "                            title  \\\n",
       "0  Мобильный менеджер по продажам   \n",
       "1   Специалист по прямым продажам   \n",
       "2   Специалист по прямым продажам   \n",
       "3  Мобильный менеджер по продажам   \n",
       "4  Мобильный менеджер по продажам   \n",
       "\n",
       "                                         description        date      id  \n",
       "0  Мы предлагаем:оформление согласно трудовому ко...  2020-11-24  395814  \n",
       "1  Мы предлагаем: трудоустройство согласно ТК РФ;...  2020-11-23  452801  \n",
       "2  Мы предлагаем:  дистанционное обучение по банк...  2020-11-24  453517  \n",
       "3  Мы предлагаем: - оформление согласно трудовому...  2020-11-24  457243  \n",
       "4  Мы предлагаем:- оформление согласно трудовому ...  2020-11-24  460664  "
      ]
     },
     "execution_count": 6,
     "metadata": {},
     "output_type": "execute_result"
    }
   ],
   "source": [
    "vtab.head()"
   ]
  },
  {
   "cell_type": "code",
   "execution_count": 7,
   "metadata": {},
   "outputs": [
    {
     "data": {
      "text/html": [
       "<div>\n",
       "<style scoped>\n",
       "    .dataframe tbody tr th:only-of-type {\n",
       "        vertical-align: middle;\n",
       "    }\n",
       "\n",
       "    .dataframe tbody tr th {\n",
       "        vertical-align: top;\n",
       "    }\n",
       "\n",
       "    .dataframe thead th {\n",
       "        text-align: right;\n",
       "    }\n",
       "</style>\n",
       "<table border=\"1\" class=\"dataframe\">\n",
       "  <thead>\n",
       "    <tr style=\"text-align: right;\">\n",
       "      <th></th>\n",
       "      <th>title</th>\n",
       "      <th>description</th>\n",
       "      <th>date</th>\n",
       "      <th>id</th>\n",
       "    </tr>\n",
       "  </thead>\n",
       "  <tbody>\n",
       "    <tr>\n",
       "      <th>37</th>\n",
       "      <td>Продуктовый аналитик</td>\n",
       "      <td>Условия:Конкурентоспособный уровень дохода (ок...</td>\n",
       "      <td>2020-11-23</td>\n",
       "      <td>1451548</td>\n",
       "    </tr>\n",
       "    <tr>\n",
       "      <th>39</th>\n",
       "      <td>Старший эксперт по технологиям</td>\n",
       "      <td>Работа у нас — это:Команда профессионалов, гот...</td>\n",
       "      <td>2020-11-24</td>\n",
       "      <td>1457214</td>\n",
       "    </tr>\n",
       "    <tr>\n",
       "      <th>40</th>\n",
       "      <td>Старший инженер информационной безопасности банка</td>\n",
       "      <td>Мы предлагаем:работа в крупнейшем банке России...</td>\n",
       "      <td>2020-11-23</td>\n",
       "      <td>1459802</td>\n",
       "    </tr>\n",
       "    <tr>\n",
       "      <th>43</th>\n",
       "      <td>Старший инженер информационной безопасности</td>\n",
       "      <td>Условия: работа в крупнейшем банке России;труд...</td>\n",
       "      <td>2020-11-23</td>\n",
       "      <td>1462871</td>\n",
       "    </tr>\n",
       "    <tr>\n",
       "      <th>46</th>\n",
       "      <td>DevOps инженер</td>\n",
       "      <td>Мы – большая, дружная команда, автоматизирующа...</td>\n",
       "      <td>2020-11-24</td>\n",
       "      <td>1462947</td>\n",
       "    </tr>\n",
       "    <tr>\n",
       "      <th>...</th>\n",
       "      <td>...</td>\n",
       "      <td>...</td>\n",
       "      <td>...</td>\n",
       "      <td>...</td>\n",
       "    </tr>\n",
       "    <tr>\n",
       "      <th>3073</th>\n",
       "      <td>Python (Голосовой ассистент)</td>\n",
       "      <td>ЦЕЛИ И ЗАДАЧИ:Разработка серверной части высок...</td>\n",
       "      <td>2020-05-14</td>\n",
       "      <td>1163658</td>\n",
       "    </tr>\n",
       "    <tr>\n",
       "      <th>3074</th>\n",
       "      <td>Java разработчик</td>\n",
       "      <td>Machine Learning Engineer/Python разработчик К...</td>\n",
       "      <td>2020-05-13</td>\n",
       "      <td>1169089</td>\n",
       "    </tr>\n",
       "    <tr>\n",
       "      <th>3157</th>\n",
       "      <td>Аналитик Витрин Данных</td>\n",
       "      <td>Условия: работа в крупнейшем банке России;труд...</td>\n",
       "      <td>2020-01-13</td>\n",
       "      <td>777257</td>\n",
       "    </tr>\n",
       "    <tr>\n",
       "      <th>3171</th>\n",
       "      <td>Менеджер проектов</td>\n",
       "      <td>Ключевые навыки:Опыт проведения функциональног...</td>\n",
       "      <td>2019-12-18</td>\n",
       "      <td>999606</td>\n",
       "    </tr>\n",
       "    <tr>\n",
       "      <th>3234</th>\n",
       "      <td>Data инженер</td>\n",
       "      <td>Условия: работа в крупнейшем банке России;труд...</td>\n",
       "      <td>2019-04-01</td>\n",
       "      <td>501847</td>\n",
       "    </tr>\n",
       "  </tbody>\n",
       "</table>\n",
       "<p>376 rows × 4 columns</p>\n",
       "</div>"
      ],
      "text/plain": [
       "                                                  title  \\\n",
       "37                                 Продуктовый аналитик   \n",
       "39                       Старший эксперт по технологиям   \n",
       "40    Старший инженер информационной безопасности банка   \n",
       "43          Старший инженер информационной безопасности   \n",
       "46                                       DevOps инженер   \n",
       "...                                                 ...   \n",
       "3073                       Python (Голосовой ассистент)   \n",
       "3074                                   Java разработчик   \n",
       "3157                             Аналитик Витрин Данных   \n",
       "3171                                  Менеджер проектов   \n",
       "3234                                       Data инженер   \n",
       "\n",
       "                                            description        date       id  \n",
       "37    Условия:Конкурентоспособный уровень дохода (ок...  2020-11-23  1451548  \n",
       "39    Работа у нас — это:Команда профессионалов, гот...  2020-11-24  1457214  \n",
       "40    Мы предлагаем:работа в крупнейшем банке России...  2020-11-23  1459802  \n",
       "43    Условия: работа в крупнейшем банке России;труд...  2020-11-23  1462871  \n",
       "46    Мы – большая, дружная команда, автоматизирующа...  2020-11-24  1462947  \n",
       "...                                                 ...         ...      ...  \n",
       "3073  ЦЕЛИ И ЗАДАЧИ:Разработка серверной части высок...  2020-05-14  1163658  \n",
       "3074  Machine Learning Engineer/Python разработчик К...  2020-05-13  1169089  \n",
       "3157  Условия: работа в крупнейшем банке России;труд...  2020-01-13   777257  \n",
       "3171  Ключевые навыки:Опыт проведения функциональног...  2019-12-18   999606  \n",
       "3234  Условия: работа в крупнейшем банке России;труд...  2019-04-01   501847  \n",
       "\n",
       "[376 rows x 4 columns]"
      ]
     },
     "execution_count": 7,
     "metadata": {},
     "output_type": "execute_result"
    }
   ],
   "source": [
    "vtab[vtab.description.str.contains('python|Python')]"
   ]
  },
  {
   "cell_type": "code",
   "execution_count": 21,
   "metadata": {},
   "outputs": [],
   "source": [
    "pat1 = 'python|Python'\n",
    "pat2 = 'senior|Senior|руководитель|Руководитель|Главный|Директор'\n",
    "t1 = vtab.description.str.contains(pat1)\n",
    "t2 = vtab.title.str.contains(pat2)\n",
    "# vtab[t1 & t2].title.tolist()"
   ]
  },
  {
   "cell_type": "code",
   "execution_count": null,
   "metadata": {},
   "outputs": [],
   "source": []
  },
  {
   "cell_type": "code",
   "execution_count": null,
   "metadata": {},
   "outputs": [],
   "source": [
    "data = []"
   ]
  },
  {
   "cell_type": "code",
   "execution_count": 9,
   "metadata": {},
   "outputs": [],
   "source": [
    "smlist = []\n",
    "litr = iter([row['id'] for _, row in vtab[t1 & t2].iterrows()])\n"
   ]
  },
  {
   "cell_type": "code",
   "execution_count": 10,
   "metadata": {},
   "outputs": [],
   "source": [
    "lrows = [row['id'] for _, row in vtab[t1 & t2].iterrows()]"
   ]
  },
  {
   "cell_type": "code",
   "execution_count": 11,
   "metadata": {},
   "outputs": [],
   "source": [
    "def previous_current_next(iterable):\n",
    "    \"\"\"Создает итератор который выдает таплы (предыдущий, текущий, следующий)\n",
    "    \n",
    "    Если нет значения, то значения предыдущего или следующего, то возвращает None\n",
    "\n",
    "    \"\"\"\n",
    "    iterable=iter(iterable)\n",
    "    prv = None\n",
    "    cur = next(iterable)\n",
    "    try:\n",
    "        while True:\n",
    "            nxt = next(iterable)\n",
    "            yield (prv,cur,nxt)\n",
    "            prv = cur\n",
    "            cur = nxt\n",
    "    except StopIteration:\n",
    "        yield (prv,cur,None)"
   ]
  },
  {
   "cell_type": "code",
   "execution_count": 12,
   "metadata": {},
   "outputs": [],
   "source": [
    "class VacNavigator:\n",
    "    \n",
    "    def __init__(self, vactuple):\n",
    "        self.current_id = vactuple[1]\n",
    "        self.previous_id = vactuple[0]\n",
    "        self.next_id = vactuple[2]\n",
    "        \n",
    "    "
   ]
  },
  {
   "cell_type": "code",
   "execution_count": 13,
   "metadata": {},
   "outputs": [],
   "source": [
    "vac_navis = [VacNavigator(tup) for tup in list(previous_current_next(lrows))]\n",
    "vac_navis_dict = {v.current_id :v for v in vac_navis}"
   ]
  },
  {
   "cell_type": "code",
   "execution_count": 14,
   "metadata": {},
   "outputs": [
    {
     "data": {
      "text/plain": [
       "1383390"
      ]
     },
     "execution_count": 14,
     "metadata": {},
     "output_type": "execute_result"
    }
   ],
   "source": [
    "vac_navis_dict.get(1465482).next_id"
   ]
  },
  {
   "cell_type": "code",
   "execution_count": 15,
   "metadata": {},
   "outputs": [],
   "source": [
    "def get_id_navigation(vac_id):\n",
    "    return vac_navis_dict.get(vac_id)\n",
    "     "
   ]
  },
  {
   "cell_type": "code",
   "execution_count": 16,
   "metadata": {},
   "outputs": [
    {
     "data": {
      "text/plain": [
       "1383390"
      ]
     },
     "execution_count": 16,
     "metadata": {},
     "output_type": "execute_result"
    }
   ],
   "source": [
    "vnav = get_id_navigation(1465482)\n",
    "vnav.next_id"
   ]
  },
  {
   "cell_type": "code",
   "execution_count": 17,
   "metadata": {},
   "outputs": [],
   "source": [
    "vnav.previous_id"
   ]
  },
  {
   "cell_type": "code",
   "execution_count": 18,
   "metadata": {},
   "outputs": [
    {
     "data": {
      "text/plain": [
       "'postgresql://alex:@localhost:5432/sbtalents'"
      ]
     },
     "execution_count": 18,
     "metadata": {},
     "output_type": "execute_result"
    }
   ],
   "source": [
    "import sys\n",
    "sys.path.extend(['../'])\n",
    "from dbsrc import DataAccessLayer, conn_string, Vacancy\n",
    "conn_string"
   ]
  },
  {
   "cell_type": "code",
   "execution_count": null,
   "metadata": {},
   "outputs": [],
   "source": []
  },
  {
   "cell_type": "code",
   "execution_count": 19,
   "metadata": {},
   "outputs": [],
   "source": [
    "dal = DataAccessLayer(conn_string)\n",
    "dal.connect()\n",
    "# dal.session.\n",
    "# dal.session.bulk_save_objects(vacancy_objects)\n",
    "# dal.session.commit()"
   ]
  },
  {
   "cell_type": "code",
   "execution_count": 31,
   "metadata": {},
   "outputs": [],
   "source": [
    "dal = DataAccessLayer(conn_string)\n",
    "dal.connect()\n",
    "list_of_vacs = [x[0] for x in dal.session.query(Vacancy.vacid).all()]\n",
    "# list_of_vacs"
   ]
  },
  {
   "cell_type": "code",
   "execution_count": 49,
   "metadata": {},
   "outputs": [],
   "source": [
    "list_of_vacs = dal.session.query(Vacancy.vacid).filter(Vacancy.vactitle.op('~')(r\"python|Руководитель\")).all()"
   ]
  },
  {
   "cell_type": "code",
   "execution_count": 50,
   "metadata": {},
   "outputs": [
    {
     "data": {
      "text/plain": [
       "[('1447405'),\n",
       " ('1467970'),\n",
       " ('1472781'),\n",
       " ('1459179'),\n",
       " ('1469139'),\n",
       " ('1464524'),\n",
       " ('1423294'),\n",
       " ('1443959'),\n",
       " ('1454533'),\n",
       " ('1468341'),\n",
       " ('1438765'),\n",
       " ('1442673'),\n",
       " ('819991'),\n",
       " ('1398688'),\n",
       " ('1434576'),\n",
       " ('1445342'),\n",
       " ('1444810'),\n",
       " ('1463002'),\n",
       " ('1452621'),\n",
       " ('1335777'),\n",
       " ('1335779'),\n",
       " ('1394825'),\n",
       " ('1458244'),\n",
       " ('1460731'),\n",
       " ('1464159'),\n",
       " ('766424'),\n",
       " ('1394826'),\n",
       " ('1435397'),\n",
       " ('1446553'),\n",
       " ('722915'),\n",
       " ('1423840'),\n",
       " ('1458974'),\n",
       " ('1434567'),\n",
       " ('1447566'),\n",
       " ('1170760'),\n",
       " ('1341572'),\n",
       " ('1346224'),\n",
       " ('1423838'),\n",
       " ('1453889'),\n",
       " ('1183483'),\n",
       " ('1334172'),\n",
       " ('1451788'),\n",
       " ('1455982'),\n",
       " ('1126596'),\n",
       " ('1415729'),\n",
       " ('1450451'),\n",
       " ('1452160'),\n",
       " ('1452892'),\n",
       " ('937624'),\n",
       " ('1401946'),\n",
       " ('1401945'),\n",
       " ('1451571'),\n",
       " ('1454625'),\n",
       " ('1363234'),\n",
       " ('1439022'),\n",
       " ('1439111'),\n",
       " ('1450120'),\n",
       " ('1450512'),\n",
       " ('1450069'),\n",
       " ('1450094'),\n",
       " ('1450154'),\n",
       " ('1431182'),\n",
       " ('1438717'),\n",
       " ('1447953'),\n",
       " ('827239'),\n",
       " ('1356884'),\n",
       " ('1164368'),\n",
       " ('1406690'),\n",
       " ('1434506'),\n",
       " ('1443807'),\n",
       " ('1444730'),\n",
       " ('1020461'),\n",
       " ('1193502'),\n",
       " ('1254074'),\n",
       " ('1267668'),\n",
       " ('1312640'),\n",
       " ('1388809'),\n",
       " ('1423343'),\n",
       " ('1441575'),\n",
       " ('676975'),\n",
       " ('1323401'),\n",
       " ('1335910'),\n",
       " ('1395833'),\n",
       " ('1399780'),\n",
       " ('1401881'),\n",
       " ('1406418'),\n",
       " ('1411745'),\n",
       " ('1411749'),\n",
       " ('1419549'),\n",
       " ('1420593'),\n",
       " ('1429436'),\n",
       " ('1163542'),\n",
       " ('1399884'),\n",
       " ('673167'),\n",
       " ('1381081'),\n",
       " ('1388122'),\n",
       " ('1388127'),\n",
       " ('1390910'),\n",
       " ('1393564'),\n",
       " ('1395589'),\n",
       " ('1295592'),\n",
       " ('1383256'),\n",
       " ('1394807'),\n",
       " ('1341341'),\n",
       " ('1386270'),\n",
       " ('1263841'),\n",
       " ('1234570'),\n",
       " ('1295666')]"
      ]
     },
     "execution_count": 50,
     "metadata": {},
     "output_type": "execute_result"
    }
   ],
   "source": []
  },
  {
   "cell_type": "code",
   "execution_count": 29,
   "metadata": {},
   "outputs": [],
   "source": [
    "# def get_vacany_\n",
    "def get_vacancy_obj(vac_id):\n",
    "    dal = DataAccessLayer(conn_string)\n",
    "    dal.connect()\n",
    "    vobj = dal.session.query(Vacancy).filter(Vacancy.vacid == vac_id).first()\n",
    "    return vobj\n"
   ]
  },
  {
   "cell_type": "code",
   "execution_count": 47,
   "metadata": {},
   "outputs": [],
   "source": [
    "# # vac_id = list_of_vacs[3]\n",
    "# for vac_id in list_of_vacs:\n",
    "#     vob = get_vacancy_obj(vac_id)\n",
    "#     print(vob.vactitle)"
   ]
  },
  {
   "cell_type": "code",
   "execution_count": 48,
   "metadata": {},
   "outputs": [],
   "source": [
    "# vob.vactitle"
   ]
  },
  {
   "cell_type": "code",
   "execution_count": null,
   "metadata": {},
   "outputs": [],
   "source": []
  },
  {
   "cell_type": "code",
   "execution_count": null,
   "metadata": {},
   "outputs": [],
   "source": [
    "vobj.vactitle"
   ]
  },
  {
   "cell_type": "code",
   "execution_count": 106,
   "metadata": {},
   "outputs": [],
   "source": [
    "class VacancyMessage:\n",
    "    def __init__(self, vobj):\n",
    "        self.vacdescription = vobj.vacdescription\n",
    "        self.title  = vobj.vactitle\n",
    "        self.vac_id = vobj.vacid\n",
    "    \n",
    "    def make_message(self):\n",
    "        return (self.title, self.vacdescription, self.vac_id)\n",
    "        "
   ]
  },
  {
   "cell_type": "code",
   "execution_count": 109,
   "metadata": {},
   "outputs": [
    {
     "data": {
      "text/plain": [
       "('Консультант по работе с ПФР',\n",
       " 'Мы предлагаем:- трудоустройство согласно ТК РФ;- гарантированный доход плюс премиальное вознаграждение;- регулярное корпоративное обучение;- ДМС, страхование от несчастных случаев и тяжелых заболеваний;- материальную помощь и социальную поддержку, корпоративную пенсионную программу;- льготные условия кредитования;- яркую и насыщенную корпоративную жизнь.Как специалист, ты будешь:- обеспечивать выполнение плана по привлечению пенсионеров на получение пенсии через Сбербанк,- консультировать пенсионеров в закрепленном отделении Пенсионного фонда России по услуге получения пенсии через Сбербанк;- оформлять заявления /заявки на открытие счета карты Сбербанк-Maestro Социальная для пенсионера.  Ты подходишь нам, если ты:- имеешь среднее/среднее профессиональное/неполное высшее/высшее образование;- желателен опыт работы с клиентами;- владеешь стандартным ПО (Microsoft Excel, Outlook)на уровне базовых операций. Личные качества:- умение самостоятельно устанавливать контакт с незнакомыми людьми;- легкость, уверенность и доброжелательность в общении;- ориентация на клиента, готовность проконсультировать, оказать помощь;- стремление к достижениям в работе, связанной с продажами, к получению дохода в зависимости от результата работы.Как специалист, ты будешь:- обеспечивать выполнение плана по привлечению пенсионеров на получение пенсии через Сбербанк,- консультировать пенсионеров в закрепленном отделении Пенсионного фонда России по услуге получения пенсии через Сбербанк;- оформлять заявления /заявки на открытие счета карты Сбербанк-Maestro Социальная для пенсионера.  Ты подходишь нам, если ты:- имеешь среднее/среднее профессиональное/неполное высшее/высшее образование;- желателен опыт работы с клиентами;- владеешь стандартным ПО (Microsoft Excel, Outlook)на уровне базовых операций. Личные качества:- умение самостоятельно устанавливать контакт с незнакомыми людьми;- легкость, уверенность и доброжелательность в общении;- ориентация на клиента, готовность проконсультировать, оказать помощь;- стремление к достижениям в работе, связанной с продажами, к получению дохода в зависимости от результата работы.- трудоустройство согласно ТК РФ;- гарантированный доход плюс премиальное вознаграждение;- регулярное корпоративное обучение;- ДМС, страхование от несчастных случаев и тяжелых заболеваний;- материальную помощь и социальную поддержку, корпоративную пенсионную программу;- льготные условия кредитования;- яркую и насыщенную корпоративную жизнь.',\n",
       " '1324943')"
      ]
     },
     "execution_count": 109,
     "metadata": {},
     "output_type": "execute_result"
    }
   ],
   "source": [
    "# vm = VacancyMessage(vobj)\n",
    "# vm.make_message()"
   ]
  },
  {
   "cell_type": "code",
   "execution_count": 11,
   "metadata": {},
   "outputs": [
    {
     "ename": "NameError",
     "evalue": "name 'get_id_navigation' is not defined",
     "output_type": "error",
     "traceback": [
      "\u001b[0;31m---------------------------------------------------------------------------\u001b[0m",
      "\u001b[0;31mNameError\u001b[0m                                 Traceback (most recent call last)",
      "\u001b[0;32m<ipython-input-11-e6b515f0f6f7>\u001b[0m in \u001b[0;36m<module>\u001b[0;34m\u001b[0m\n\u001b[0;32m----> 1\u001b[0;31m \u001b[0mvn\u001b[0m \u001b[0;34m=\u001b[0m \u001b[0mget_id_navigation\u001b[0m\u001b[0;34m(\u001b[0m\u001b[0;36m1324943\u001b[0m\u001b[0;34m)\u001b[0m\u001b[0;34m\u001b[0m\u001b[0;34m\u001b[0m\u001b[0m\n\u001b[0m",
      "\u001b[0;31mNameError\u001b[0m: name 'get_id_navigation' is not defined"
     ]
    }
   ],
   "source": [
    "vn = get_id_navigation(1324943)"
   ]
  },
  {
   "cell_type": "code",
   "execution_count": null,
   "metadata": {},
   "outputs": [],
   "source": [
    "vn."
   ]
  },
  {
   "cell_type": "code",
   "execution_count": 18,
   "metadata": {},
   "outputs": [],
   "source": [
    "vtitles = vtab[t1 & t2].title.tolist()"
   ]
  },
  {
   "cell_type": "code",
   "execution_count": 20,
   "metadata": {},
   "outputs": [],
   "source": [
    "vdescs = vtab[t1 & t2].description.tolist()"
   ]
  },
  {
   "cell_type": "code",
   "execution_count": 21,
   "metadata": {},
   "outputs": [],
   "source": [
    "vids = vtab[t1 & t2].id.tolist()"
   ]
  },
  {
   "cell_type": "code",
   "execution_count": 23,
   "metadata": {},
   "outputs": [],
   "source": [
    "vdates = vtab[t1 & t2].date.tolist()"
   ]
  },
  {
   "cell_type": "code",
   "execution_count": 26,
   "metadata": {},
   "outputs": [],
   "source": [
    "vacancies_dict = dict(zip(vids, tuple(zip(vtitles,vdescs,vdates))))"
   ]
  },
  {
   "cell_type": "code",
   "execution_count": null,
   "metadata": {},
   "outputs": [],
   "source": []
  },
  {
   "cell_type": "code",
   "execution_count": 30,
   "metadata": {},
   "outputs": [],
   "source": [
    "import pickle"
   ]
  },
  {
   "cell_type": "code",
   "execution_count": 32,
   "metadata": {},
   "outputs": [],
   "source": [
    "with open('vac.pkl','wb') as f:\n",
    "    pickle.dump(vacancies_dict,f)"
   ]
  },
  {
   "cell_type": "code",
   "execution_count": 33,
   "metadata": {},
   "outputs": [],
   "source": [
    "with open('vac.pkl','rb') as f:\n",
    "    vacancies_dict = pickle.load(f)"
   ]
  },
  {
   "cell_type": "code",
   "execution_count": null,
   "metadata": {},
   "outputs": [],
   "source": []
  },
  {
   "cell_type": "code",
   "execution_count": 28,
   "metadata": {},
   "outputs": [],
   "source": [
    "\n",
    "vacids = list(vacancies_dict.keys())"
   ]
  },
  {
   "cell_type": "code",
   "execution_count": 35,
   "metadata": {},
   "outputs": [],
   "source": [
    "# vacancies_dict.get(vacids[0])"
   ]
  },
  {
   "cell_type": "code",
   "execution_count": 13,
   "metadata": {},
   "outputs": [],
   "source": [
    "from dbsa import Vacancy, DataAccessLayer, conn_string"
   ]
  },
  {
   "cell_type": "code",
   "execution_count": 119,
   "metadata": {},
   "outputs": [],
   "source": [
    "dal = DataAccessLayer(conn_string)\n",
    "dal.connect()"
   ]
  },
  {
   "cell_type": "code",
   "execution_count": 121,
   "metadata": {},
   "outputs": [],
   "source": [
    "query = dal.session.query(Vacancy).filter(Vacancy.vactitle.like('%Руководитель%'))"
   ]
  },
  {
   "cell_type": "code",
   "execution_count": 117,
   "metadata": {
    "scrolled": true
   },
   "outputs": [],
   "source": [
    "# for record in query:                       \n",
    "#     print(record.vactitle)"
   ]
  },
  {
   "cell_type": "code",
   "execution_count": 122,
   "metadata": {},
   "outputs": [
    {
     "data": {
      "text/plain": [
       "<sqlalchemy.orm.query.Query at 0x7fa944c7aca0>"
      ]
     },
     "execution_count": 122,
     "metadata": {},
     "output_type": "execute_result"
    }
   ],
   "source": [
    "query "
   ]
  },
  {
   "cell_type": "code",
   "execution_count": null,
   "metadata": {},
   "outputs": [],
   "source": []
  }
 ],
 "metadata": {
  "kernelspec": {
   "display_name": "Python 3",
   "language": "python",
   "name": "python3"
  },
  "language_info": {
   "codemirror_mode": {
    "name": "ipython",
    "version": 3
   },
   "file_extension": ".py",
   "mimetype": "text/x-python",
   "name": "python",
   "nbconvert_exporter": "python",
   "pygments_lexer": "ipython3",
   "version": "3.8.5"
  }
 },
 "nbformat": 4,
 "nbformat_minor": 2
}
